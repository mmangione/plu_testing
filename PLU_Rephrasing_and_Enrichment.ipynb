{
  "nbformat": 4,
  "nbformat_minor": 0,
  "metadata": {
    "colab": {
      "name": "PLU_Rephrasing_and_Enrichment.ipynb",
      "provenance": [],
      "include_colab_link": true
    },
    "kernelspec": {
      "name": "python3",
      "display_name": "Python 3"
    },
    "language_info": {
      "name": "python"
    }
  },
  "cells": [
    {
      "cell_type": "markdown",
      "metadata": {
        "id": "view-in-github",
        "colab_type": "text"
      },
      "source": [
        "<a href=\"https://colab.research.google.com/github/mmangione/plu_testing/blob/main/PLU_Rephrasing_and_Enrichment.ipynb\" target=\"_parent\"><img src=\"https://colab.research.google.com/assets/colab-badge.svg\" alt=\"Open In Colab\"/></a>"
      ]
    },
    {
      "cell_type": "code",
      "metadata": {
        "id": "4J-IWnGy143I"
      },
      "source": [
        "pip install transformers"
      ],
      "execution_count": null,
      "outputs": []
    },
    {
      "cell_type": "code",
      "metadata": {
        "id": "NYURlI3c1J05"
      },
      "source": [
        "from transformers import AutoTokenizer, AutoModel, pipeline\n",
        "\n",
        "summarizer = pipeline(\"summarization\")"
      ],
      "execution_count": null,
      "outputs": []
    },
    {
      "cell_type": "code",
      "metadata": {
        "id": "KM4dI-kB2ZQw"
      },
      "source": [
        "input_text = '''Your lobby or reception area is the forefront of your business and providing distinguished and comfortable seating is the first step towards making a great impression. The modern appeal of this LeatherSoft chair will make a lasting impression with your visitors. LeatherSoft is leather and polyurethane for softness and durability. The contemporary design of this furniture adapts in several different settings. This chair features streamlined stitching and elevated, curved hardwood feet. Not only will this piece fit in a professional environment, but will add a modern look to your home.'''\n",
        "summarized_text = summarizer(input_text, min_length=75, max_length=600)"
      ],
      "execution_count": null,
      "outputs": []
    },
    {
      "cell_type": "code",
      "metadata": {
        "id": "2YQeDbNl2giD",
        "colab": {
          "base_uri": "https://localhost:8080/"
        },
        "outputId": "6bab18ba-67a0-4c3f-a4ad-f0d66c53834d"
      },
      "source": [
        "summarized_text[0]['summary_text'].split(' . ')"
      ],
      "execution_count": null,
      "outputs": [
        {
          "output_type": "execute_result",
          "data": {
            "text/plain": [
              "[' LeatherSoft is leather and polyurethane for softness and durability',\n",
              " 'The modern appeal of this LeatherSoft chair will make a lasting impression with your visitors',\n",
              " 'This chair features streamlined stitching and elevated, curved hardwood feet',\n",
              " 'LeatherSoft will fit in a professional environment, but will add a modern look to your home',\n",
              " 'The contemporary design of this furniture adapts in several different settings .']"
            ]
          },
          "metadata": {
            "tags": []
          },
          "execution_count": 6
        }
      ]
    },
    {
      "cell_type": "code",
      "metadata": {
        "id": "OOuNCjKWVyQH"
      },
      "source": [
        ""
      ],
      "execution_count": null,
      "outputs": []
    }
  ]
}